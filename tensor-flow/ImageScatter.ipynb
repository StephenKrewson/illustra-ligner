{
 "cells": [
  {
   "cell_type": "code",
   "execution_count": 1,
   "metadata": {
    "collapsed": false
   },
   "outputs": [],
   "source": [
    "from tsne import bh_sne\n",
    "import numpy as np\n",
    "from skimage.transform import resize\n",
    "from PIL import Image"
   ]
  },
  {
   "cell_type": "code",
   "execution_count": 2,
   "metadata": {
    "collapsed": true
   },
   "outputs": [],
   "source": [
    "from matplotlib import pyplot as plt"
   ]
  },
  {
   "cell_type": "code",
   "execution_count": 3,
   "metadata": {
    "collapsed": true
   },
   "outputs": [],
   "source": [
    "def gray_to_color(img):\n",
    "    if len(img.shape) == 2:\n",
    "        img = np.dstack((img, img, img))\n",
    "    return img"
   ]
  },
  {
   "cell_type": "code",
   "execution_count": 4,
   "metadata": {
    "collapsed": true
   },
   "outputs": [],
   "source": [
    "def min_resize(img, size):\n",
    "    \"\"\"\n",
    "    Resize an image so that it is size along the minimum spatial dimension.\n",
    "    \"\"\"\n",
    "    w, h = map(float, img.shape[:2])\n",
    "    if min([w, h]) != size:\n",
    "        if w <= h:\n",
    "            img = resize(img, (int(round((h/w)*size)), int(size)))\n",
    "        else:\n",
    "            img = resize(img, (int(size), int(round((w/h)*size))))\n",
    "    return img\n"
   ]
  },
  {
   "cell_type": "code",
   "execution_count": 5,
   "metadata": {
    "collapsed": true
   },
   "outputs": [],
   "source": [
    "def image_scatter(features, images, img_res, res=4000, cval=1.):\n",
    "    \"\"\"\n",
    "    Embeds images via tsne into a scatter plot.\n",
    "    Parameters\n",
    "    ---------\n",
    "    features: numpy array\n",
    "        Features to visualize\n",
    "    images: list or numpy array\n",
    "        Corresponding images to features. Expects float images from (0,1).\n",
    "    img_res: float or int\n",
    "        Resolution to embed images at\n",
    "    res: float or int\n",
    "        Size of embedding image in pixels\n",
    "    cval: float or numpy array\n",
    "        Background color value\n",
    "    Returns\n",
    "    ------\n",
    "    canvas: numpy array\n",
    "        Image of visualization\n",
    "    \"\"\"\n",
    "    features = np.copy(features).astype('float64')\n",
    "    images = [gray_to_color(image) for image in images]\n",
    "    images = [min_resize(image, img_res) for image in images]\n",
    "    max_width = max([image.shape[0] for image in images])\n",
    "    max_height = max([image.shape[1] for image in images])\n",
    "    print('Beginning T-SNE')\n",
    "    f2d = bh_sne(features)\n",
    "    print('Finished T-SNE')\n",
    "    xx = f2d[:, 0]\n",
    "    yy = f2d[:, 1]\n",
    "    x_min, x_max = xx.min(), xx.max()\n",
    "    y_min, y_max = yy.min(), yy.max()\n",
    "    # Fix the ratios\n",
    "    sx = (x_max-x_min)\n",
    "    sy = (y_max-y_min)\n",
    "    if sx > sy:\n",
    "        res_x = sx/float(sy)*res\n",
    "        res_y = res\n",
    "    else:\n",
    "        res_x = res\n",
    "        res_y = sy/float(sx)*res\n",
    "\n",
    "    canvas = np.ones((res_x+max_width, res_y+max_height, 3))*cval\n",
    "    x_coords = np.linspace(x_min, x_max, res_x)\n",
    "    y_coords = np.linspace(y_min, y_max, res_y)\n",
    "    for x, y, image in zip(xx, yy, images):\n",
    "        w, h = image.shape[:2]\n",
    "        x_idx = np.argmin((x - x_coords)**2)\n",
    "        y_idx = np.argmin((y - y_coords)**2)\n",
    "        canvas[x_idx:x_idx+w, y_idx:y_idx+h] = image\n",
    "    return canvas\n"
   ]
  },
  {
   "cell_type": "code",
   "execution_count": 6,
   "metadata": {
    "collapsed": false,
    "scrolled": true
   },
   "outputs": [],
   "source": [
    "image1 = Image.open('/Users/peterleonard/Desktop/MKImageAnalysis/images/MES72784.jpg')\n",
    "image1 = np.array(image1)\n",
    "# image1data = np.asarray(image1array).astype('float64')\n",
    "# image1data = image1data.reshape((image1data.shape[0], -1))\n",
    "image2 = Image.open('/Users/peterleonard/Desktop/MKImageAnalysis/images/MES72783.jpg')\n",
    "image2 = np.array(image2)\n",
    "# image2array = np.array(image2)\n",
    "# image2data = np.asarray(image2array).astype('float64')\n",
    "# image2data = image2data.reshape((image2data.shape[0], -1))\n",
    "imagesall = np.hstack([image1,image2])\n"
   ]
  },
  {
   "cell_type": "code",
   "execution_count": 7,
   "metadata": {
    "collapsed": false
   },
   "outputs": [],
   "source": [
    "data1=np.load('/Users/peterleonard/Desktop/MKImageAnalysis/results/MES72784.jpg.npy')\n",
    "data2=np.load('/Users/peterleonard/Desktop/MKImageAnalysis/results/MES72783.jpg.npy')\n",
    "dataall = np.array([])\n",
    "dataall = np.vstack(data1)\n",
    "dataall= np.vstack(data2)"
   ]
  },
  {
   "cell_type": "code",
   "execution_count": null,
   "metadata": {
    "collapsed": false
   },
   "outputs": [],
   "source": [
    "canvas=image_scatter(dataall, imagesall, img_res=500, res=4000, cval=1.)"
   ]
  },
  {
   "cell_type": "code",
   "execution_count": null,
   "metadata": {
    "collapsed": false
   },
   "outputs": [],
   "source": [
    "plt.imshow(canvas, interpolation='nearest')\n",
    "plt.show()"
   ]
  },
  {
   "cell_type": "code",
   "execution_count": 49,
   "metadata": {
    "collapsed": false
   },
   "outputs": [],
   "source": []
  },
  {
   "cell_type": "code",
   "execution_count": 15,
   "metadata": {
    "collapsed": true
   },
   "outputs": [],
   "source": []
  },
  {
   "cell_type": "code",
   "execution_count": 16,
   "metadata": {
    "collapsed": true
   },
   "outputs": [],
   "source": []
  },
  {
   "cell_type": "code",
   "execution_count": null,
   "metadata": {
    "collapsed": true
   },
   "outputs": [],
   "source": []
  },
  {
   "cell_type": "code",
   "execution_count": null,
   "metadata": {
    "collapsed": true
   },
   "outputs": [],
   "source": []
  },
  {
   "cell_type": "code",
   "execution_count": null,
   "metadata": {
    "collapsed": true
   },
   "outputs": [],
   "source": []
  },
  {
   "cell_type": "code",
   "execution_count": null,
   "metadata": {
    "collapsed": true
   },
   "outputs": [],
   "source": []
  }
 ],
 "metadata": {
  "kernelspec": {
   "display_name": "Python 2",
   "language": "python",
   "name": "python2"
  },
  "language_info": {
   "codemirror_mode": {
    "name": "ipython",
    "version": 2
   },
   "file_extension": ".py",
   "mimetype": "text/x-python",
   "name": "python",
   "nbconvert_exporter": "python",
   "pygments_lexer": "ipython2",
   "version": "2.7.12"
  }
 },
 "nbformat": 4,
 "nbformat_minor": 0
}
